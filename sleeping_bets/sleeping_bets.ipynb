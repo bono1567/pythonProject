{
 "cells": [
  {
   "cell_type": "code",
   "execution_count": null,
   "metadata": {},
   "outputs": [],
   "source": [
    "import json\n",
    "import pandas as pd\n",
    "from datetime import datetime as dt\n",
    "from typing import Union\n",
    "import numpy as np\n",
    "import ScraperFC as sfc\n",
    "ss = sfc.Sofascore()\n",
    "np.seterr(all='ignore')"
   ]
  },
  {
   "cell_type": "code",
   "execution_count": null,
   "metadata": {},
   "outputs": [],
   "source": [
    "all_leagues = ['EPL', 'La Liga', 'Bundesliga', 'Serie A', 'Ligue 1']\n",
    "all_columns = ['goals', 'yellowCards', 'redCards', 'groundDuelsWon',\n",
    "       'groundDuelsWonPercentage', 'aerialDuelsWon',\n",
    "       'aerialDuelsWonPercentage', 'successfulDribbles',\n",
    "       'successfulDribblesPercentage', 'tackles', 'assists',\n",
    "       'accuratePassesPercentage', 'totalDuelsWon', 'totalDuelsWonPercentage',\n",
    "       'minutesPlayed', 'wasFouled', 'fouls', 'dispossessed', 'appearances',\n",
    "       'saves', 'savedShotsFromInsideTheBox', 'savedShotsFromOutsideTheBox',\n",
    "       'goalsConcededInsideTheBox', 'goalsConcededOutsideTheBox', 'accurateFinalThirdPasses',\n",
    "       'bigChancesCreated', 'accuratePasses', 'keyPasses', 'accurateCrosses',\n",
    "       'accurateCrossesPercentage', 'accurateLongBalls',\n",
    "       'accurateLongBallsPercentage', 'interceptions', 'clearances',\n",
    "       'dribbledPast', 'bigChancesMissed', 'totalShots', 'shotsOnTarget',\n",
    "       'blockedShots', 'goalConversionPercentage', 'hitWoodwork', 'offsides',\n",
    "       'expectedGoals', 'errorLeadToGoal', 'errorLeadToShot', 'passToAssist',\n",
    "       'player', 'team', 'player id', 'team id']\n",
    "\n",
    "f_test_elimination_value = 10\n",
    "season = \"24/25\"\n",
    "\n",
    "player_data = []\n",
    "for league in all_leagues[:5]:\n",
    "    player_data.append(ss.scrape_player_league_stats(season, league))\n",
    "    print(\"Fetched data for {} and season {}\".format(league, season))\n",
    "original_player_data = pd.concat(player_data)[all_columns].fillna(0).reset_index(drop=True)\n",
    "player_data = pd.concat(player_data[2:5])[all_columns].fillna(0)\n",
    "player_data.head()"
   ]
  },
  {
   "cell_type": "code",
   "execution_count": null,
   "metadata": {},
   "outputs": [],
   "source": [
    "from analytics import Analytics, ClubAnalytics, PlayerAnalytics\n",
    "\n",
    "analysis_goals = Analytics(player_data)\n",
    "final_features = analysis_goals.run_regression_and_feature_selection('goals', 10)\n",
    "final_prediction_data = original_player_data[final_features]\n",
    "club_analysis_goals = ClubAnalytics(original_player_data[final_features])\n",
    "display(final_prediction_data.head())\n",
    "analysis_goals.save_most_similar_players_list('similar_player_goals.json', 5, final_prediction_data)"
   ]
  },
  {
   "cell_type": "code",
   "execution_count": null,
   "metadata": {},
   "outputs": [],
   "source": [
    "analysis_assists = Analytics(player_data)\n",
    "final_features = analysis_assists.run_regression_and_feature_selection('assists', 10)\n",
    "final_prediction_data = original_player_data[final_features]\n",
    "club_analysis_assists = ClubAnalytics(original_player_data[final_features])\n",
    "display(final_prediction_data.head())\n",
    "analysis_assists.save_most_similar_players_list('similar_player_assists.json', 5, final_prediction_data)"
   ]
  },
  {
   "cell_type": "code",
   "execution_count": null,
   "metadata": {},
   "outputs": [],
   "source": [
    "analysis_fouls = Analytics(player_data)\n",
    "final_features = analysis_fouls.run_regression_and_feature_selection('fouls', 10)\n",
    "final_prediction_data = original_player_data[final_features]\n",
    "club_analysis_fouls = ClubAnalytics(original_player_data[final_features])\n",
    "display(final_prediction_data.head())\n",
    "analysis_fouls.save_most_similar_players_list('similar_player_fouls.json', 5, final_prediction_data)"
   ]
  },
  {
   "cell_type": "code",
   "execution_count": null,
   "metadata": {},
   "outputs": [],
   "source": [
    "print(analysis_assists.predict(original_player_data[original_player_data['player'] == 'Cole Palmer']).to_list()[0])\n",
    "\n",
    "print(original_player_data[original_player_data['player'] == 'Cole Palmer']['assists'].to_list()[0])"
   ]
  },
  {
   "cell_type": "markdown",
   "metadata": {},
   "source": [
    "## CLUB BASED PREFORMANCE"
   ]
  },
  {
   "cell_type": "code",
   "execution_count": null,
   "metadata": {},
   "outputs": [],
   "source": [
    "club_analysis_goals.get_players_of_club('Manchester United')"
   ]
  },
  {
   "cell_type": "code",
   "execution_count": null,
   "metadata": {},
   "outputs": [],
   "source": [
    "club_analysis_goals.get_club_of_players(['Marcus Rashford', 'Kevin De Bruyne'])"
   ]
  },
  {
   "cell_type": "markdown",
   "metadata": {},
   "source": [
    "## PER PLAYER ANALYSIS OF PERFORMANCE (PER SEASON)"
   ]
  },
  {
   "cell_type": "code",
   "execution_count": 1,
   "metadata": {},
   "outputs": [],
   "source": [
    "from sleeping_bets.analytics import PlayerAnalytics\n",
    "import json\n",
    "import json\n",
    "import pandas as pd\n",
    "from datetime import datetime as dt\n",
    "from typing import Union\n",
    "import numpy as np\n",
    "import ScraperFC as sfc\n",
    "ss = sfc.Sofascore()\n",
    "np.seterr(all='ignore')\n",
    "season = \"24/25\"\n",
    "\n",
    "with open('similar_player_assists.json', 'r', encoding='utf-8') as file:\n",
    "    similar_assists = json.load(file)\n",
    "\n",
    "with open('similar_player_goals.json', 'r', encoding='utf-8') as file:\n",
    "    similar_goals = json.load(file)\n",
    "\n",
    "with open('similar_player_fouls.json', 'r', encoding='utf-8') as file:\n",
    "    similar_fouls = json.load(file)"
   ]
  },
  {
   "cell_type": "code",
   "execution_count": 8,
   "metadata": {},
   "outputs": [],
   "source": [
    "player_name = 'Marcus Rashford'\n",
    "player_league= 'EPL'\n",
    "simliar_players = [x['player'] for x in similar_assists[player_name]]"
   ]
  },
  {
   "cell_type": "code",
   "execution_count": null,
   "metadata": {},
   "outputs": [],
   "source": [
    "player_comp = PlayerAnalytics(simliar_players, ss, season)"
   ]
  },
  {
   "cell_type": "code",
   "execution_count": null,
   "metadata": {},
   "outputs": [],
   "source": [
    "similar_player_data = player_comp.get_historic_similarity_stats()"
   ]
  },
  {
   "cell_type": "code",
   "execution_count": null,
   "metadata": {},
   "outputs": [],
   "source": [
    "player_stats = player_comp.get_historic_player_stats(player_name, player_league)"
   ]
  },
  {
   "cell_type": "code",
   "execution_count": null,
   "metadata": {},
   "outputs": [],
   "source": [
    "comparable_values = player_stats.columns\n",
    "print(comparable_values)"
   ]
  },
  {
   "cell_type": "code",
   "execution_count": null,
   "metadata": {},
   "outputs": [],
   "source": [
    "def plot_comarison(field, similar_players_data: dict, player_data, lead_player):\n",
    "    import matplotlib.pyplot as plt\n",
    "    plt.figure(figsize=(12, 6))\n",
    "    for player in similar_players_data.keys():\n",
    "        try:\n",
    "            plt.plot(similar_players_data[player]['matchTime'],\n",
    "                similar_players_data[player][field],\n",
    "                label=player)\n",
    "            for x, y in zip(similar_players_data[player]['matchTime'], similar_players_data[player][field]):\n",
    "                plt.text(x, y, f'{y}', fontsize=8, ha='right')\n",
    "        except KeyError:\n",
    "            print(\"The player data not available for {} state: {}\".format(player, field))\n",
    "    plt.xlabel('Date')\n",
    "    plt.ylabel(field)\n",
    "    plt.title('Comparison of {} for player and similar players'.format(field))\n",
    "    plt.legend()\n",
    "    plt.grid(True, which='both', linestyle='--', linewidth=0.5)\n",
    "    plt.show()\n",
    "\n",
    "plot_comarison('touches', similar_player_data, player_stats, player_name)"
   ]
  },
  {
   "cell_type": "code",
   "execution_count": null,
   "metadata": {},
   "outputs": [],
   "source": []
  }
 ],
 "metadata": {
  "kernelspec": {
   "display_name": "venv",
   "language": "python",
   "name": "python3"
  },
  "language_info": {
   "codemirror_mode": {
    "name": "ipython",
    "version": 3
   },
   "file_extension": ".py",
   "mimetype": "text/x-python",
   "name": "python",
   "nbconvert_exporter": "python",
   "pygments_lexer": "ipython3",
   "version": "3.11.9"
  }
 },
 "nbformat": 4,
 "nbformat_minor": 2
}
