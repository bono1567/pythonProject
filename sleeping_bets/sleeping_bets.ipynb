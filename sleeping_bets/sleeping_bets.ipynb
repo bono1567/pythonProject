{
 "cells": [
  {
   "cell_type": "code",
   "execution_count": null,
   "metadata": {},
   "outputs": [],
   "source": [
    "import json\n",
    "import pandas as pd\n",
    "from datetime import datetime as dt\n",
    "from typing import Union\n",
    "import numpy as np\n",
    "import ScraperFC as sfc\n",
    "ss = sfc.Sofascore()\n",
    "np.seterr(all='ignore')"
   ]
  },
  {
   "cell_type": "code",
   "execution_count": null,
   "metadata": {},
   "outputs": [],
   "source": [
    "all_leagues = ['EPL', 'La Liga', 'Bundesliga', 'Serie A', 'Ligue 1']\n",
    "all_columns = ['goals', 'yellowCards', 'redCards', 'groundDuelsWon',\n",
    "       'groundDuelsWonPercentage', 'aerialDuelsWon',\n",
    "       'aerialDuelsWonPercentage', 'successfulDribbles',\n",
    "       'successfulDribblesPercentage', 'tackles', 'assists',\n",
    "       'accuratePassesPercentage', 'totalDuelsWon', 'totalDuelsWonPercentage',\n",
    "       'minutesPlayed', 'wasFouled', 'fouls', 'dispossessed', 'appearances',\n",
    "       'saves', 'savedShotsFromInsideTheBox', 'savedShotsFromOutsideTheBox',\n",
    "       'goalsConcededInsideTheBox', 'goalsConcededOutsideTheBox', 'accurateFinalThirdPasses',\n",
    "       'bigChancesCreated', 'accuratePasses', 'keyPasses', 'accurateCrosses',\n",
    "       'accurateCrossesPercentage', 'accurateLongBalls',\n",
    "       'accurateLongBallsPercentage', 'interceptions', 'clearances',\n",
    "       'dribbledPast', 'bigChancesMissed', 'totalShots', 'shotsOnTarget',\n",
    "       'blockedShots', 'goalConversionPercentage', 'hitWoodwork', 'offsides',\n",
    "       'expectedGoals', 'errorLeadToGoal', 'errorLeadToShot', 'passToAssist',\n",
    "       'player', 'team', 'player id', 'team id']\n",
    "\n",
    "f_test_elimination_value = 10\n",
    "season = \"24/25\"\n",
    "\n",
    "player_data = []\n",
    "for league in all_leagues[:5]:\n",
    "    player_data.append(ss.scrape_player_league_stats(season, league))\n",
    "    print(\"Fetched data for {} and season {}\".format(league, season))\n",
    "original_player_data = pd.concat(player_data)[all_columns].fillna(0).reset_index(drop=True)\n",
    "player_data = pd.concat(player_data[2:5])[all_columns].fillna(0)\n",
    "player_data.head()"
   ]
  },
  {
   "cell_type": "code",
   "execution_count": null,
   "metadata": {},
   "outputs": [],
   "source": [
    "from pages.analytics import Analytics, ClubAnalytics, PlayerAnalytics\n",
    "\n",
    "analysis_goals = Analytics(player_data)\n",
    "final_features = analysis_goals.run_regression_and_feature_selection('goals', 10)\n",
    "final_prediction_data = original_player_data[final_features]\n",
    "club_analysis_goals = ClubAnalytics(original_player_data[final_features])\n",
    "display(final_prediction_data.head())\n",
    "analysis_goals.save_most_similar_players_list('similar_player_goals.json', 5, final_prediction_data)"
   ]
  },
  {
   "cell_type": "code",
   "execution_count": null,
   "metadata": {},
   "outputs": [],
   "source": [
    "analysis_assists = Analytics(player_data)\n",
    "final_features = analysis_assists.run_regression_and_feature_selection('assists', 10)\n",
    "final_prediction_data = original_player_data[final_features]\n",
    "club_analysis_assists = ClubAnalytics(original_player_data[final_features])\n",
    "display(final_prediction_data.head())\n",
    "analysis_assists.save_most_similar_players_list('similar_player_assists.json', 5, final_prediction_data)"
   ]
  },
  {
   "cell_type": "code",
   "execution_count": null,
   "metadata": {},
   "outputs": [],
   "source": [
    "analysis_fouls = Analytics(player_data)\n",
    "final_features = analysis_fouls.run_regression_and_feature_selection('fouls', 10)\n",
    "final_prediction_data = original_player_data[final_features]\n",
    "club_analysis_fouls = ClubAnalytics(original_player_data[final_features])\n",
    "display(final_prediction_data.head())\n",
    "analysis_fouls.save_most_similar_players_list('similar_player_fouls.json', 5, final_prediction_data)"
   ]
  },
  {
   "cell_type": "code",
   "execution_count": null,
   "metadata": {},
   "outputs": [],
   "source": [
    "print(analysis_assists.predict(original_player_data[original_player_data['player'] == 'Cole Palmer']).to_list()[0])\n",
    "\n",
    "print(original_player_data[original_player_data['player'] == 'Cole Palmer']['assists'].to_list()[0])"
   ]
  },
  {
   "cell_type": "markdown",
   "metadata": {},
   "source": [
    "## CLUB BASED PREFORMANCE"
   ]
  },
  {
   "cell_type": "code",
   "execution_count": null,
   "metadata": {},
   "outputs": [],
   "source": [
    "club_analysis_goals.get_players_of_club('Manchester United')"
   ]
  },
  {
   "cell_type": "code",
   "execution_count": null,
   "metadata": {},
   "outputs": [],
   "source": [
    "club_analysis_goals.get_club_of_players(['Marcus Rashford', 'Kevin De Bruyne'])"
   ]
  },
  {
   "cell_type": "markdown",
   "metadata": {},
   "source": [
    "## PER PLAYER ANALYSIS OF PERFORMANCE (PER SEASON)"
   ]
  },
  {
   "cell_type": "code",
   "execution_count": 1,
   "metadata": {},
   "outputs": [],
   "source": [
    "from pages.analytics import PlayerAnalytics\n",
    "import json\n",
    "import json\n",
    "import pandas as pd\n",
    "from datetime import datetime as dt\n",
    "from typing import Union\n",
    "import numpy as np\n",
    "import ScraperFC as sfc\n",
    "ss = sfc.Sofascore()\n",
    "np.seterr(all='ignore')\n",
    "season = \"24/25\"\n",
    "\n",
    "with open('similar_player_assists.json', 'r', encoding='utf-8') as file:\n",
    "    similar_assists = json.load(file)\n",
    "\n",
    "with open('similar_player_goals.json', 'r', encoding='utf-8') as file:\n",
    "    similar_goals = json.load(file)\n",
    "\n",
    "with open('similar_player_fouls.json', 'r', encoding='utf-8') as file:\n",
    "    similar_fouls = json.load(file)"
   ]
  },
  {
   "cell_type": "code",
   "execution_count": 2,
   "metadata": {},
   "outputs": [],
   "source": [
    "player_name = 'Erling Haaland'\n",
    "player_league= 'EPL'\n",
    "simliar_players = [x['player'] for x in similar_assists[player_name]]"
   ]
  },
  {
   "cell_type": "code",
   "execution_count": 3,
   "metadata": {},
   "outputs": [
    {
     "name": "stdout",
     "output_type": "stream",
     "text": [
      "Running\n"
     ]
    }
   ],
   "source": [
    "player_comp = PlayerAnalytics(simliar_players, ss, season)"
   ]
  },
  {
   "cell_type": "code",
   "execution_count": 4,
   "metadata": {},
   "outputs": [
    {
     "data": {
      "text/plain": [
       "'Analysis for player: Alexander Isak league: EPL'"
      ]
     },
     "metadata": {},
     "output_type": "display_data"
    },
    {
     "name": "stdout",
     "output_type": "stream",
     "text": [
      "Analysis for player: Alexander Isak league: EPL\n"
     ]
    },
    {
     "data": {
      "text/plain": [
       "\"Match Not Played Yet or player didn't play 12436452\""
      ]
     },
     "metadata": {},
     "output_type": "display_data"
    },
    {
     "name": "stdout",
     "output_type": "stream",
     "text": [
      "Match Not Played Yet or player didn't play 12436452\n"
     ]
    },
    {
     "data": {
      "text/plain": [
       "'Analysis for player: Ousmane Dembélé league: Ligue 1'"
      ]
     },
     "metadata": {},
     "output_type": "display_data"
    },
    {
     "name": "stdout",
     "output_type": "stream",
     "text": [
      "Analysis for player: Ousmane Dembélé league: Ligue 1\n"
     ]
    },
    {
     "data": {
      "text/plain": [
       "'Analysis for player: Bryan Mbeumo league: EPL'"
      ]
     },
     "metadata": {},
     "output_type": "display_data"
    },
    {
     "name": "stdout",
     "output_type": "stream",
     "text": [
      "Analysis for player: Bryan Mbeumo league: EPL\n"
     ]
    },
    {
     "data": {
      "text/plain": [
       "\"Match Not Played Yet or player didn't play 12436452\""
      ]
     },
     "metadata": {},
     "output_type": "display_data"
    },
    {
     "name": "stdout",
     "output_type": "stream",
     "text": [
      "Match Not Played Yet or player didn't play 12436452\n"
     ]
    },
    {
     "data": {
      "text/plain": [
       "'Analysis for player: Robert Lewandowski league: La Liga'"
      ]
     },
     "metadata": {},
     "output_type": "display_data"
    },
    {
     "name": "stdout",
     "output_type": "stream",
     "text": [
      "Analysis for player: Robert Lewandowski league: La Liga\n"
     ]
    },
    {
     "name": "stderr",
     "output_type": "stream",
     "text": [
      "c:\\Users\\bono1\\PycharmProjects\\pythonProject\\venv\\Lib\\site-packages\\ScraperFC\\sofascore.py:449: UserWarning: Scraper did not get status code 200 from Sofascore. Returning empty dataframe.\n",
      "  warnings.warn(\n"
     ]
    },
    {
     "data": {
      "text/plain": [
       "\"Match Not Played Yet or player didn't play 12437651\""
      ]
     },
     "metadata": {},
     "output_type": "display_data"
    },
    {
     "name": "stdout",
     "output_type": "stream",
     "text": [
      "Match Not Played Yet or player didn't play 12437651\n"
     ]
    },
    {
     "name": "stderr",
     "output_type": "stream",
     "text": [
      "c:\\Users\\bono1\\PycharmProjects\\pythonProject\\venv\\Lib\\site-packages\\ScraperFC\\sofascore.py:449: UserWarning: Scraper did not get status code 200 from Sofascore. Returning empty dataframe.\n",
      "  warnings.warn(\n"
     ]
    },
    {
     "data": {
      "text/plain": [
       "\"Match Not Played Yet or player didn't play 12437653\""
      ]
     },
     "metadata": {},
     "output_type": "display_data"
    },
    {
     "name": "stdout",
     "output_type": "stream",
     "text": [
      "Match Not Played Yet or player didn't play 12437653\n"
     ]
    },
    {
     "name": "stderr",
     "output_type": "stream",
     "text": [
      "c:\\Users\\bono1\\PycharmProjects\\pythonProject\\venv\\Lib\\site-packages\\ScraperFC\\sofascore.py:449: UserWarning: Scraper did not get status code 200 from Sofascore. Returning empty dataframe.\n",
      "  warnings.warn(\n"
     ]
    },
    {
     "data": {
      "text/plain": [
       "\"Match Not Played Yet or player didn't play 12437668\""
      ]
     },
     "metadata": {},
     "output_type": "display_data"
    },
    {
     "name": "stdout",
     "output_type": "stream",
     "text": [
      "Match Not Played Yet or player didn't play 12437668\n"
     ]
    },
    {
     "data": {
      "text/plain": [
       "'Analysis for player: Harry Kane league: Bundesliga'"
      ]
     },
     "metadata": {},
     "output_type": "display_data"
    },
    {
     "name": "stdout",
     "output_type": "stream",
     "text": [
      "Analysis for player: Harry Kane league: Bundesliga\n"
     ]
    }
   ],
   "source": [
    "similar_player_data = player_comp.get_historic_similarity_stats()"
   ]
  },
  {
   "cell_type": "code",
   "execution_count": 5,
   "metadata": {},
   "outputs": [
    {
     "data": {
      "text/plain": [
       "'Analysis for player: Erling Haaland league: EPL'"
      ]
     },
     "metadata": {},
     "output_type": "display_data"
    },
    {
     "name": "stdout",
     "output_type": "stream",
     "text": [
      "Analysis for player: Erling Haaland league: EPL\n"
     ]
    },
    {
     "data": {
      "text/plain": [
       "\"Match Not Played Yet or player didn't play 12436452\""
      ]
     },
     "metadata": {},
     "output_type": "display_data"
    },
    {
     "name": "stdout",
     "output_type": "stream",
     "text": [
      "Match Not Played Yet or player didn't play 12436452\n"
     ]
    }
   ],
   "source": [
    "player_stats = player_comp.get_historic_player_stats('Erling Haaland', 'EPL')"
   ]
  },
  {
   "cell_type": "code",
   "execution_count": 6,
   "metadata": {},
   "outputs": [
    {
     "name": "stdout",
     "output_type": "stream",
     "text": [
      "Index(['aerialLost', 'blockedScoringAttempt', 'name', 'marketValueCurrency',\n",
      "       'awayScore', 'totalOffside', 'position', 'position', 'challengeLost',\n",
      "       'totalContest', 'totalTackle', 'duelWon', 'totalClearance', 'teamId',\n",
      "       'firstName', 'rating', 'goalsPrevented', 'duelLost', 'substitute',\n",
      "       'keyPass', 'teamName', 'homeScore', 'wonContest', 'expectedAssists',\n",
      "       'totalCross', 'awayTeam', 'fouls', 'shotOffTarget', 'accurateLongBalls',\n",
      "       'slug', 'dispossessed', 'bigChanceCreated', 'possessionLostCtrl',\n",
      "       'totalPass', 'interceptionWon', 'proposedMarketValueRaw', 'shortName',\n",
      "       'userCount', 'shirtNumber', 'goals', 'id', 'wasFouled', 'expectedGoals',\n",
      "       'fieldTranslations', 'height', 'outfielderBlock', 'totalLongBalls',\n",
      "       'country', 'touches', 'dateOfBirthTimestamp', 'jerseyNumber',\n",
      "       'jerseyNumber', 'homeTeam', 'minutesPlayed',\n",
      "       'savedShotsFromInsideTheBox', 'goalAssist', 'matchTime', 'lastName',\n",
      "       'accuratePass', 'ratingVersions', 'aerialWon', 'accurateCross',\n",
      "       'onTargetScoringAttempt', 'saves', 'captain', 'bigChanceMissed'],\n",
      "      dtype='object')\n"
     ]
    }
   ],
   "source": [
    "comparable_values = player_stats.columns\n",
    "print(comparable_values)"
   ]
  },
  {
   "cell_type": "code",
   "execution_count": 9,
   "metadata": {},
   "outputs": [
    {
     "data": {
      "text/html": [
       "<div>\n",
       "<style scoped>\n",
       "    .dataframe tbody tr th:only-of-type {\n",
       "        vertical-align: middle;\n",
       "    }\n",
       "\n",
       "    .dataframe tbody tr th {\n",
       "        vertical-align: top;\n",
       "    }\n",
       "\n",
       "    .dataframe thead th {\n",
       "        text-align: right;\n",
       "    }\n",
       "</style>\n",
       "<table border=\"1\" class=\"dataframe\">\n",
       "  <thead>\n",
       "    <tr style=\"text-align: right;\">\n",
       "      <th></th>\n",
       "      <th>aerialWon</th>\n",
       "      <th>onTargetScoringAttempt</th>\n",
       "      <th>matchTime</th>\n",
       "      <th>awayTeam</th>\n",
       "      <th>homeTeam</th>\n",
       "    </tr>\n",
       "  </thead>\n",
       "  <tbody>\n",
       "    <tr>\n",
       "      <th>0</th>\n",
       "      <td>2.0</td>\n",
       "      <td>2.0</td>\n",
       "      <td>2024-08-18 16:30:00</td>\n",
       "      <td>Manchester City</td>\n",
       "      <td>Chelsea</td>\n",
       "    </tr>\n",
       "    <tr>\n",
       "      <th>1</th>\n",
       "      <td>1.0</td>\n",
       "      <td>4.0</td>\n",
       "      <td>2024-08-24 15:00:00</td>\n",
       "      <td>Ipswich Town</td>\n",
       "      <td>Manchester City</td>\n",
       "    </tr>\n",
       "    <tr>\n",
       "      <th>2</th>\n",
       "      <td>NaN</td>\n",
       "      <td>4.0</td>\n",
       "      <td>2024-08-31 17:30:00</td>\n",
       "      <td>Manchester City</td>\n",
       "      <td>West Ham United</td>\n",
       "    </tr>\n",
       "    <tr>\n",
       "      <th>3</th>\n",
       "      <td>1.0</td>\n",
       "      <td>4.0</td>\n",
       "      <td>2024-09-14 15:00:00</td>\n",
       "      <td>Brentford</td>\n",
       "      <td>Manchester City</td>\n",
       "    </tr>\n",
       "    <tr>\n",
       "      <th>4</th>\n",
       "      <td>4.0</td>\n",
       "      <td>5.0</td>\n",
       "      <td>2024-09-22 16:30:00</td>\n",
       "      <td>Arsenal</td>\n",
       "      <td>Manchester City</td>\n",
       "    </tr>\n",
       "    <tr>\n",
       "      <th>5</th>\n",
       "      <td>1.0</td>\n",
       "      <td>2.0</td>\n",
       "      <td>2024-09-28 12:30:00</td>\n",
       "      <td>Manchester City</td>\n",
       "      <td>Newcastle United</td>\n",
       "    </tr>\n",
       "    <tr>\n",
       "      <th>6</th>\n",
       "      <td>NaN</td>\n",
       "      <td>2.0</td>\n",
       "      <td>2024-10-05 15:00:00</td>\n",
       "      <td>Fulham</td>\n",
       "      <td>Manchester City</td>\n",
       "    </tr>\n",
       "    <tr>\n",
       "      <th>7</th>\n",
       "      <td>NaN</td>\n",
       "      <td>NaN</td>\n",
       "      <td>2024-10-20 14:00:00</td>\n",
       "      <td>Manchester City</td>\n",
       "      <td>Wolverhampton</td>\n",
       "    </tr>\n",
       "    <tr>\n",
       "      <th>8</th>\n",
       "      <td>2.0</td>\n",
       "      <td>4.0</td>\n",
       "      <td>2024-10-26 15:00:00</td>\n",
       "      <td>Southampton</td>\n",
       "      <td>Manchester City</td>\n",
       "    </tr>\n",
       "    <tr>\n",
       "      <th>9</th>\n",
       "      <td>1.0</td>\n",
       "      <td>2.0</td>\n",
       "      <td>2024-11-02 15:00:00</td>\n",
       "      <td>Manchester City</td>\n",
       "      <td>Bournemouth</td>\n",
       "    </tr>\n",
       "    <tr>\n",
       "      <th>10</th>\n",
       "      <td>2.0</td>\n",
       "      <td>3.0</td>\n",
       "      <td>2024-11-09 17:30:00</td>\n",
       "      <td>Manchester City</td>\n",
       "      <td>Brighton &amp; Hove Albion</td>\n",
       "    </tr>\n",
       "    <tr>\n",
       "      <th>11</th>\n",
       "      <td>2.0</td>\n",
       "      <td>2.0</td>\n",
       "      <td>2024-11-23 17:30:00</td>\n",
       "      <td>Tottenham Hotspur</td>\n",
       "      <td>Manchester City</td>\n",
       "    </tr>\n",
       "    <tr>\n",
       "      <th>12</th>\n",
       "      <td>NaN</td>\n",
       "      <td>1.0</td>\n",
       "      <td>2024-12-01 16:00:00</td>\n",
       "      <td>Manchester City</td>\n",
       "      <td>Liverpool</td>\n",
       "    </tr>\n",
       "    <tr>\n",
       "      <th>13</th>\n",
       "      <td>NaN</td>\n",
       "      <td>1.0</td>\n",
       "      <td>2024-12-04 19:30:00</td>\n",
       "      <td>Nottingham Forest</td>\n",
       "      <td>Manchester City</td>\n",
       "    </tr>\n",
       "    <tr>\n",
       "      <th>14</th>\n",
       "      <td>2.0</td>\n",
       "      <td>2.0</td>\n",
       "      <td>2024-12-07 15:00:00</td>\n",
       "      <td>Manchester City</td>\n",
       "      <td>Crystal Palace</td>\n",
       "    </tr>\n",
       "    <tr>\n",
       "      <th>15</th>\n",
       "      <td>3.0</td>\n",
       "      <td>NaN</td>\n",
       "      <td>2024-12-15 16:30:00</td>\n",
       "      <td>Manchester United</td>\n",
       "      <td>Manchester City</td>\n",
       "    </tr>\n",
       "    <tr>\n",
       "      <th>16</th>\n",
       "      <td>1.0</td>\n",
       "      <td>NaN</td>\n",
       "      <td>2024-12-21 12:30:00</td>\n",
       "      <td>Manchester City</td>\n",
       "      <td>Aston Villa</td>\n",
       "    </tr>\n",
       "    <tr>\n",
       "      <th>17</th>\n",
       "      <td>2.0</td>\n",
       "      <td>1.0</td>\n",
       "      <td>2024-12-26 12:30:00</td>\n",
       "      <td>Everton</td>\n",
       "      <td>Manchester City</td>\n",
       "    </tr>\n",
       "    <tr>\n",
       "      <th>18</th>\n",
       "      <td>4.0</td>\n",
       "      <td>3.0</td>\n",
       "      <td>2024-12-29 14:30:00</td>\n",
       "      <td>Manchester City</td>\n",
       "      <td>Leicester City</td>\n",
       "    </tr>\n",
       "    <tr>\n",
       "      <th>19</th>\n",
       "      <td>1.0</td>\n",
       "      <td>2.0</td>\n",
       "      <td>2025-01-04 15:00:00</td>\n",
       "      <td>West Ham United</td>\n",
       "      <td>Manchester City</td>\n",
       "    </tr>\n",
       "  </tbody>\n",
       "</table>\n",
       "</div>"
      ],
      "text/plain": [
       "    aerialWon  onTargetScoringAttempt           matchTime           awayTeam  \\\n",
       "0         2.0                     2.0 2024-08-18 16:30:00    Manchester City   \n",
       "1         1.0                     4.0 2024-08-24 15:00:00       Ipswich Town   \n",
       "2         NaN                     4.0 2024-08-31 17:30:00    Manchester City   \n",
       "3         1.0                     4.0 2024-09-14 15:00:00          Brentford   \n",
       "4         4.0                     5.0 2024-09-22 16:30:00            Arsenal   \n",
       "5         1.0                     2.0 2024-09-28 12:30:00    Manchester City   \n",
       "6         NaN                     2.0 2024-10-05 15:00:00             Fulham   \n",
       "7         NaN                     NaN 2024-10-20 14:00:00    Manchester City   \n",
       "8         2.0                     4.0 2024-10-26 15:00:00        Southampton   \n",
       "9         1.0                     2.0 2024-11-02 15:00:00    Manchester City   \n",
       "10        2.0                     3.0 2024-11-09 17:30:00    Manchester City   \n",
       "11        2.0                     2.0 2024-11-23 17:30:00  Tottenham Hotspur   \n",
       "12        NaN                     1.0 2024-12-01 16:00:00    Manchester City   \n",
       "13        NaN                     1.0 2024-12-04 19:30:00  Nottingham Forest   \n",
       "14        2.0                     2.0 2024-12-07 15:00:00    Manchester City   \n",
       "15        3.0                     NaN 2024-12-15 16:30:00  Manchester United   \n",
       "16        1.0                     NaN 2024-12-21 12:30:00    Manchester City   \n",
       "17        2.0                     1.0 2024-12-26 12:30:00            Everton   \n",
       "18        4.0                     3.0 2024-12-29 14:30:00    Manchester City   \n",
       "19        1.0                     2.0 2025-01-04 15:00:00    West Ham United   \n",
       "\n",
       "                  homeTeam  \n",
       "0                  Chelsea  \n",
       "1          Manchester City  \n",
       "2          West Ham United  \n",
       "3          Manchester City  \n",
       "4          Manchester City  \n",
       "5         Newcastle United  \n",
       "6          Manchester City  \n",
       "7            Wolverhampton  \n",
       "8          Manchester City  \n",
       "9              Bournemouth  \n",
       "10  Brighton & Hove Albion  \n",
       "11         Manchester City  \n",
       "12               Liverpool  \n",
       "13         Manchester City  \n",
       "14          Crystal Palace  \n",
       "15         Manchester City  \n",
       "16             Aston Villa  \n",
       "17         Manchester City  \n",
       "18          Leicester City  \n",
       "19         Manchester City  "
      ]
     },
     "execution_count": 9,
     "metadata": {},
     "output_type": "execute_result"
    }
   ],
   "source": [
    "player_stats[['aerialWon','onTargetScoringAttempt','matchTime', 'awayTeam', 'homeTeam']]"
   ]
  },
  {
   "cell_type": "code",
   "execution_count": 8,
   "metadata": {},
   "outputs": [
    {
     "data": {
      "text/plain": [
       "'Analysis for player: Erling Haaland league: EPL'"
      ]
     },
     "metadata": {},
     "output_type": "display_data"
    },
    {
     "name": "stdout",
     "output_type": "stream",
     "text": [
      "Analysis for player: Erling Haaland league: EPL\n"
     ]
    },
    {
     "data": {
      "text/plain": [
       "\"Match Not Played Yet or player didn't play 12436452\""
      ]
     },
     "metadata": {},
     "output_type": "display_data"
    },
    {
     "name": "stdout",
     "output_type": "stream",
     "text": [
      "Match Not Played Yet or player didn't play 12436452\n"
     ]
    },
    {
     "data": {
      "text/plain": [
       "<module 'matplotlib.pyplot' from 'c:\\\\Users\\\\bono1\\\\PycharmProjects\\\\pythonProject\\\\venv\\\\Lib\\\\site-packages\\\\matplotlib\\\\pyplot.py'>"
      ]
     },
     "execution_count": 8,
     "metadata": {},
     "output_type": "execute_result"
    },
    {
     "name": "stderr",
     "output_type": "stream",
     "text": [
      "posx and posy should be finite values\n",
      "posx and posy should be finite values\n",
      "posx and posy should be finite values\n",
      "posx and posy should be finite values\n",
      "posx and posy should be finite values\n",
      "posx and posy should be finite values\n",
      "posx and posy should be finite values\n",
      "posx and posy should be finite values\n",
      "posx and posy should be finite values\n"
     ]
    },
    {
     "data": {
      "image/png": "[encoded data removed]",
      "text/plain": [
       "<Figure size 1200x600 with 1 Axes>"
      ]
     },
     "metadata": {},
     "output_type": "display_data"
    }
   ],
   "source": [
    "player_comp.plot_comparison('onTargetScoringAttempt', {}, 'Erling Haaland')"
   ]
  },
  {
   "cell_type": "code",
   "execution_count": null,
   "metadata": {},
   "outputs": [],
   "source": [
    "pd.pivot_table(player_stats, index='homeTeam', values='onTargetScoringAttempt', aggfunc='mean')"
   ]
  },
  {
   "cell_type": "code",
   "execution_count": null,
   "metadata": {},
   "outputs": [],
   "source": [
    "similar_player_data['Bukayo Saka']"
   ]
  },
  {
   "cell_type": "code",
   "execution_count": null,
   "metadata": {},
   "outputs": [],
   "source": [
    "def custom_agg_func(x):\n",
    "    return x.mean()/x.sum()\n",
    "\n",
    "pd.pivot_table(player_stats, index='homeTeam', values=['onTargetScoringAttempt', 'blockedScoringAttempt', 'totalLongBalls'], aggfunc=custom_agg_func)\n",
    "\n",
    "# pd.pivot_table(player_stats, index='homeTeam', values='onTargetScoringAttempt', aggfunc='min')"
   ]
  },
  {
   "cell_type": "code",
   "execution_count": 34,
   "metadata": {},
   "outputs": [],
   "source": [
    "player_stats.loc[player_stats['homeTeam'] == 'Napoli', 'fixture_type'] = 'Home'\n",
    "player_stats.loc[player_stats['awayTeam'] == 'Napoli', 'fixture_type'] = 'Away'"
   ]
  },
  {
   "cell_type": "code",
   "execution_count": null,
   "metadata": {},
   "outputs": [],
   "source": []
  },
  {
   "cell_type": "code",
   "execution_count": null,
   "metadata": {},
   "outputs": [],
   "source": []
  }
 ],
 "metadata": {
  "kernelspec": {
   "display_name": "venv",
   "language": "python",
   "name": "python3"
  },
  "language_info": {
   "codemirror_mode": {
    "name": "ipython",
    "version": 3
   },
   "file_extension": ".py",
   "mimetype": "text/x-python",
   "name": "python",
   "nbconvert_exporter": "python",
   "pygments_lexer": "ipython3",
   "version": "3.11.9"
  }
 },
 "nbformat": 4,
 "nbformat_minor": 2
}
