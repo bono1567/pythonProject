{
 "cells": [
  {
   "cell_type": "code",
   "execution_count": 5,
   "id": "7fd821d8",
   "metadata": {},
   "outputs": [
    {
     "name": "stdout",
     "output_type": "stream",
     "text": [
      "                | lattitube | longitude\n",
      "Tokyo           |   35.6667 |  139.6506 *\n",
      "Delhi NCR       |   28.6139 |   77.2090 *\n",
      "Mexico City     |   19.4326 |  -99.1332\n",
      "New York-Newark |   40.7127 |  -74.0060\n",
      "Sao Paulo       |  -23.5505 |  -46.6333\n",
      "Shanghai        |   31.2304 |  121.4737 *\n",
      "Cairo           |   30.0444 |   31.2357 *\n",
      "Dhaka           |   23.8103 |   90.4125 *\n",
      "Mumbai          |   19.0760 |   72.8777 *\n",
      "Beijing         |   39.9042 |  116.4074 *\n"
     ]
    }
   ],
   "source": [
    "metro_areas = [\n",
    "    ('Tokyo', 'Japan', 36.933, (35.66667722, 139.6505789)),\n",
    "    ('Delhi NCR', 'India', 26.454, (28.6139391, 77.2090212)),\n",
    "    ('Mexico City', 'Mexico', 21.782, (19.4326077, -99.1332087)),\n",
    "    ('New York-Newark', 'United States', 21.186, (40.7127281, -74.0060152)),\n",
    "    ('Sao Paulo', 'Brazil', 20.186, (-23.5505199, -46.6333094)),\n",
    "    ('Shanghai', 'China', 19.200, (31.230416, 121.473701)),\n",
    "    ('Cairo', 'Egypt', 18.772, (30.0444196, 31.2357116)),\n",
    "    ('Dhaka', 'Bangladesh', 18.237, (23.8103, 90.4125)),\n",
    "    ('Mumbai', 'India', 18.042, (19.0760, 72.8777)),\n",
    "    ('Beijing', 'China', 17.180, (39.9042, 116.4074)),\n",
    "]\n",
    "\n",
    "print(f'{\"\":15} | {\"lattitube\": >9} | {\"longitude\": >9}')\n",
    "for record in metro_areas:\n",
    "    match record:\n",
    "        case [name, *_, (lat, lon)] if lon <= 0:\n",
    "            print(f'{name:15} | {lat:9.4f} | {lon:9.4f}')\n",
    "        case [name, _, _, (lat, lon)] if lon > 0:\n",
    "            print(f'{name:15} | {lat:9.4f} | {lon:9.4f} *')"
   ]
  },
  {
   "cell_type": "code",
   "execution_count": 3,
   "id": "deca52d0",
   "metadata": {},
   "outputs": [
    {
     "ename": "TypeError",
     "evalue": "'tuple' object does not support item assignment",
     "output_type": "error",
     "traceback": [
      "\u001b[31m---------------------------------------------------------------------------\u001b[39m",
      "\u001b[31mTypeError\u001b[39m                                 Traceback (most recent call last)",
      "\u001b[36mCell\u001b[39m\u001b[36m \u001b[39m\u001b[32mIn[3]\u001b[39m\u001b[32m, line 2\u001b[39m\n\u001b[32m      1\u001b[39m t = (\u001b[32m1\u001b[39m, \u001b[32m2\u001b[39m, [\u001b[32m34\u001b[39m, \u001b[32m34\u001b[39m])\n\u001b[32m----> \u001b[39m\u001b[32m2\u001b[39m \u001b[43mt\u001b[49m\u001b[43m[\u001b[49m\u001b[32;43m2\u001b[39;49m\u001b[43m]\u001b[49m += [\u001b[32m1\u001b[39m, \u001b[32m2\u001b[39m]\n",
      "\u001b[31mTypeError\u001b[39m: 'tuple' object does not support item assignment"
     ]
    }
   ],
   "source": [
    "t = (1, 2, [34, 34])\n",
    "t[2] += [1, 2]"
   ]
  },
  {
   "cell_type": "code",
   "execution_count": 11,
   "id": "3eee196b",
   "metadata": {},
   "outputs": [],
   "source": [
    "import array\n",
    "a = array.array('l', [-11111111, 22222222, -33333333, 44444444])\n",
    "m = memoryview(a)"
   ]
  },
  {
   "cell_type": "code",
   "execution_count": 9,
   "id": "828735a8",
   "metadata": {},
   "outputs": [
    {
     "name": "stdout",
     "output_type": "stream",
     "text": [
      "1\n",
      "Inside generator\n",
      "2\n",
      "Still inside generator\n",
      "3\n",
      "Exiting generator\n"
     ]
    },
    {
     "ename": "StopIteration",
     "evalue": "",
     "output_type": "error",
     "traceback": [
      "\u001b[31m---------------------------------------------------------------------------\u001b[39m",
      "\u001b[31mStopIteration\u001b[39m                             Traceback (most recent call last)",
      "\u001b[36mCell\u001b[39m\u001b[36m \u001b[39m\u001b[32mIn[9]\u001b[39m\u001b[32m, line 13\u001b[39m\n\u001b[32m     11\u001b[39m \u001b[38;5;28mprint\u001b[39m(\u001b[38;5;28mnext\u001b[39m(g))\n\u001b[32m     12\u001b[39m \u001b[38;5;28mprint\u001b[39m(\u001b[38;5;28mnext\u001b[39m(g))\n\u001b[32m---> \u001b[39m\u001b[32m13\u001b[39m \u001b[38;5;28mprint\u001b[39m(\u001b[38;5;28;43mnext\u001b[39;49m\u001b[43m(\u001b[49m\u001b[43mg\u001b[49m\u001b[43m)\u001b[49m)\n",
      "\u001b[31mStopIteration\u001b[39m: "
     ]
    }
   ],
   "source": [
    "def sample_generator():\n",
    "    yield 1\n",
    "    print('Inside generator')\n",
    "    yield 2\n",
    "    print('Still inside generator')\n",
    "    yield 3\n",
    "    print('Exiting generator')\n",
    "\n",
    "g = sample_generator()\n",
    "print(next(g))\n",
    "print(next(g))\n",
    "print(next(g))\n",
    "print(next(g))"
   ]
  },
  {
   "cell_type": "code",
   "execution_count": null,
   "id": "596f92fb",
   "metadata": {},
   "outputs": [],
   "source": [
    "import random\n",
    "import string\n",
    "\n",
    "def generate_isin(country_code='US'):\n",
    "    \"\"\"Generate a custom ISIN (International Securities Identification Number).\"\"\"\n",
    "    random_part = ''.join(random.choices(string.ascii_uppercase + string.digits, k=9))\n",
    "    checksum = str(sum(int(c) for c in random_part if c.isdigit()) % 10)\n",
    "    return f\"{country_code}{random_part}{checksum}\"\n",
    "\n",
    "# Example usage\n",
    "custom_isin = generate_isin()\n",
    "print(f\"Generated ISIN: {custom_isin}\")"
   ]
  },
  {
   "cell_type": "code",
   "execution_count": null,
   "id": "999886e1",
   "metadata": {},
   "outputs": [
    {
     "ename": "AttributeError",
     "evalue": "'BondPrice' object has no attribute 'get_price'",
     "output_type": "error",
     "traceback": [
      "\u001b[31m---------------------------------------------------------------------------\u001b[39m",
      "\u001b[31mAttributeError\u001b[39m                            Traceback (most recent call last)",
      "\u001b[36mCell\u001b[39m\u001b[36m \u001b[39m\u001b[32mIn[34]\u001b[39m\u001b[32m, line 132\u001b[39m\n\u001b[32m    125\u001b[39m \u001b[38;5;66;03m# Example Usage\u001b[39;00m\n\u001b[32m    126\u001b[39m bond_price = BondPrice(\n\u001b[32m    127\u001b[39m     bond_yield=\u001b[32m0.075\u001b[39m,\n\u001b[32m    128\u001b[39m     coupon_rate=\u001b[32m0.05\u001b[39m,\n\u001b[32m    129\u001b[39m     expiry_date=datetime.today() + timedelta(days=\u001b[32m365\u001b[39m * \u001b[32m20\u001b[39m),\n\u001b[32m    130\u001b[39m     face_value=\u001b[32m1000\u001b[39m\n\u001b[32m    131\u001b[39m )\n\u001b[32m--> \u001b[39m\u001b[32m132\u001b[39m \u001b[38;5;28mprint\u001b[39m(\u001b[33mf\u001b[39m\u001b[33m\"\u001b[39m\u001b[33mBond Price: \u001b[39m\u001b[38;5;132;01m{\u001b[39;00m\u001b[43mbond_price\u001b[49m\u001b[43m.\u001b[49m\u001b[43mget_price\u001b[49m()\u001b[38;5;132;01m}\u001b[39;00m\u001b[33m\"\u001b[39m)\n\u001b[32m    133\u001b[39m \u001b[38;5;28mprint\u001b[39m(\u001b[33mf\u001b[39m\u001b[33m\"\u001b[39m\u001b[33mCoupon Dates: \u001b[39m\u001b[38;5;132;01m{\u001b[39;00mbond_price.get_coupon_dates()\u001b[38;5;132;01m}\u001b[39;00m\u001b[33m\"\u001b[39m)\n",
      "\u001b[31mAttributeError\u001b[39m: 'BondPrice' object has no attribute 'get_price'"
     ]
    }
   ],
   "source": [
    "from datetime import datetime, timedelta\n",
    "from dateutil import rrule\n",
    "from collections.abc import Iterable\n",
    "\n",
    "class ISIN:\n",
    "    def __init__(self, code: str):\n",
    "        if not self._validate_isin(code):\n",
    "            raise ValueError(f\"Invalid ISIN: {code}\")\n",
    "        self.code = code\n",
    "\n",
    "    @staticmethod\n",
    "    def _validate_isin(code: str) -> bool:\n",
    "        \"\"\"Validate the ISIN format.\"\"\"\n",
    "        if len(code) != 12:\n",
    "            return False\n",
    "        if not code[:2].isalpha() or not code[2:11].isalnum() or not code[-1].isdigit():\n",
    "            return False\n",
    "        return True\n",
    "\n",
    "    def __repr__(self):\n",
    "        return f\"ISIN('{self.code}')\"\n",
    "\n",
    "    def __str__(self):\n",
    "        return self.code\n",
    "\n",
    "\n",
    "class BondPrice:\n",
    "    __slots__ = ('__bond_yield', '__price', '__coupon_rate', '__expiry_date', '__face_value', '__coupon_dates')\n",
    "\n",
    "    def __init__(self, bond_yield: float, coupon_rate: float, expiry_date: datetime, face_value: float, semi_annual: bool = True):\n",
    "        self.__expiry_date = expiry_date  # Store expiry_date as a datetime object\n",
    "        self.__bond_yield = bond_yield / 2 if semi_annual else bond_yield\n",
    "        self.__coupon_rate = coupon_rate / 2 if semi_annual else coupon_rate\n",
    "        self.__face_value = face_value\n",
    "        self.__coupon_dates = []  # Initialize coupon dates\n",
    "        self.__set_coupon_dates(semi_annual=semi_annual)\n",
    "        self.calculate_price()\n",
    "\n",
    "    def calculate_price(self, dirty=False):\n",
    "        \"\"\"Calculate the price of the bond based on yield, coupon rate, and expiry date.\"\"\"\n",
    "        time_to_maturity = (self.__expiry_date - datetime.now()).days / 365.0\n",
    "        self.__price = self.__face_value / (1 + self.__bond_yield) ** time_to_maturity + self.__calculate_coupon_price()\n",
    "        if dirty:\n",
    "            self.__price += self.__calculate_accrued_coupon()\n",
    "\n",
    "    def get_price(self):\n",
    "        \"\"\"Get the calculated price of the bond.\"\"\"\n",
    "        return self.__price\n",
    "\n",
    "    def get_coupon_dates(self):\n",
    "        \"\"\"Get the coupon dates for the bond.\"\"\"\n",
    "        return self.__coupon_dates\n",
    "\n",
    "    def __set_coupon_dates(self, semi_annual=True):\n",
    "        \"\"\"Set the coupon dates for the bond.\"\"\"\n",
    "        payment_months = (1, 7) if semi_annual else (1,)\n",
    "        self.__coupon_dates = [\n",
    "            datetime(year=date.year, month=date.month, day=min(self.__expiry_date.day, 28))\n",
    "            for date in rrule.rrule(rrule.MONTHLY, dtstart=datetime.now(), until=self.__expiry_date)\n",
    "            if date.month in payment_months\n",
    "        ]\n",
    "\n",
    "    @staticmethod\n",
    "    def __get_last_coupon_date(semi_annual=True):\n",
    "        \"\"\"Get the last coupon date based on the current date.\"\"\"\n",
    "        dates = list(rrule.rrule(rrule.MONTHLY, dtstart=datetime.now() - timedelta(days=365), until=datetime.now()))\n",
    "        for i in reversed(dates):\n",
    "            if semi_annual:\n",
    "                if i.month in (1, 7):  # Check for January or July\n",
    "                    return i\n",
    "            else:\n",
    "                if i.month == 1:  # Check for January\n",
    "                    return i\n",
    "        return None  # Return None if no matching date is found\n",
    "\n",
    "    def __calculate_accrued_coupon(self, semi_annual=True):\n",
    "        \"\"\"Calculate the accrued coupon based on the coupon rate and time to maturity.\"\"\"\n",
    "        last_coupon_date = self.__get_last_coupon_date(semi_annual)\n",
    "        if not last_coupon_date:\n",
    "            return 0  # No accrued coupon if no last coupon date is found\n",
    "        days_since_last_coupon = (datetime.now() - last_coupon_date).days\n",
    "        return (self.__coupon_rate * self.__face_value) * (days_since_last_coupon / 365)\n",
    "\n",
    "    def __calculate_coupon_price(self):\n",
    "        \"\"\"Calculate the coupon price based on the coupon rate and time to maturity.\"\"\"\n",
    "        coupon_price = 0\n",
    "        for coupon_date in self.__coupon_dates:\n",
    "            time_to_coupon = (coupon_date - datetime.now()).days / 365.0\n",
    "            coupon_price += self.__coupon_rate * self.__face_value / (1 + self.__bond_yield) ** time_to_coupon\n",
    "        return coupon_price\n",
    "\n",
    "    def __repr__(self):\n",
    "        return f'Price: {self.__price}'\n",
    "\n",
    "\n",
    "class Bond:\n",
    "    def __init__(self, isin: ISIN, issuer: str, bond_yield: float, coupon_rate: float, face_value: float):\n",
    "        self.isin = isin\n",
    "        self.name = issuer\n",
    "        self.bond_yield = bond_yield\n",
    "        self.coupon_rate = coupon_rate\n",
    "        self.face_value = face_value\n",
    "\n",
    "    def __repr__(self):\n",
    "        return f'Bond({self.name}, {self.bond_yield}, {self.coupon_rate})'\n",
    "\n",
    "    def __str__(self):\n",
    "        return f'{self.name} - {self.bond_yield} - {self.coupon_rate}'\n",
    "\n",
    "\n",
    "class BondPortfolio:\n",
    "    def __init__(self, bonds: Iterable[Bond]):\n",
    "        if not isinstance(bonds, Iterable):\n",
    "            raise TypeError(\"Bonds must be an iterable.\")\n",
    "        self.bonds = bonds\n",
    "\n",
    "    def __iter__(self):\n",
    "        yield from self.bonds\n",
    "\n",
    "    def __len__(self):\n",
    "        return len(self.bonds)\n",
    "\n",
    "    def __getitem__(self, isin):\n",
    "        for bond in self.bonds:\n",
    "            if bond.isin == isin:\n",
    "                return bond\n",
    "        raise KeyError(f\"Bond with ISIN {isin} not found.\")\n",
    "\n",
    "    def __contains__(self, bond):\n",
    "        return bond in self.bonds\n",
    "\n",
    "    def __repr__(self):\n",
    "        return ','.join([str(bond.isin) for bond in self.bonds])\n",
    "\n",
    "\n",
    "# Example Usage\n",
    "bond_price = BondPrice(\n",
    "    bond_yield=0.075,\n",
    "    coupon_rate=0.05,\n",
    "    expiry_date=datetime.today() + timedelta(days=365 * 20),\n",
    "    face_value=1000\n",
    ")\n",
    "print(f\"Bond Price: {bond_price.get_price()}\")\n",
    "print(f\"Coupon Dates: {bond_price.get_coupon_dates()}\")"
   ]
  },
  {
   "cell_type": "code",
   "execution_count": 1,
   "id": "356b508f",
   "metadata": {},
   "outputs": [
    {
     "name": "stdout",
     "output_type": "stream",
     "text": [
      "6\n",
      "13\n"
     ]
    },
    {
     "ename": "AttributeError",
     "evalue": "'int' object has no attribute 'val'",
     "output_type": "error",
     "traceback": [
      "\u001b[31m---------------------------------------------------------------------------\u001b[39m",
      "\u001b[31mAttributeError\u001b[39m                            Traceback (most recent call last)",
      "\u001b[36mCell\u001b[39m\u001b[36m \u001b[39m\u001b[32mIn[1]\u001b[39m\u001b[32m, line 16\u001b[39m\n\u001b[32m     14\u001b[39m \u001b[38;5;28mprint\u001b[39m(a + b)\n\u001b[32m     15\u001b[39m \u001b[38;5;28mprint\u001b[39m(\u001b[32m10\u001b[39m + a)\n\u001b[32m---> \u001b[39m\u001b[32m16\u001b[39m \u001b[38;5;28mprint\u001b[39m(\u001b[43ma\u001b[49m\u001b[43m \u001b[49m\u001b[43m+\u001b[49m\u001b[43m \u001b[49m\u001b[32;43m10\u001b[39;49m)\n",
      "\u001b[36mCell\u001b[39m\u001b[36m \u001b[39m\u001b[32mIn[1]\u001b[39m\u001b[32m, line 6\u001b[39m, in \u001b[36mStrange.__add__\u001b[39m\u001b[34m(self, other)\u001b[39m\n\u001b[32m      5\u001b[39m \u001b[38;5;28;01mdef\u001b[39;00m\u001b[38;5;250m \u001b[39m\u001b[34m__add__\u001b[39m(\u001b[38;5;28mself\u001b[39m, other):\n\u001b[32m----> \u001b[39m\u001b[32m6\u001b[39m     \u001b[38;5;28;01mreturn\u001b[39;00m \u001b[38;5;28mself\u001b[39m.val * \u001b[43mother\u001b[49m\u001b[43m.\u001b[49m\u001b[43mval\u001b[49m\n",
      "\u001b[31mAttributeError\u001b[39m: 'int' object has no attribute 'val'"
     ]
    }
   ],
   "source": [
    "class Strange:\n",
    "    def __init__(self, val):\n",
    "        self.val = val\n",
    "\n",
    "    def __add__(self, other):\n",
    "        return self.val * other.val\n",
    "\n",
    "    def __radd__(self, other):\n",
    "        return self.val + other\n",
    "\n",
    "a = Strange(3)\n",
    "b = Strange(2)\n",
    "\n",
    "print(a + b)\n",
    "print(10 + a)\n",
    "print(a + 10)"
   ]
  },
  {
   "cell_type": "code",
   "execution_count": 2,
   "id": "4efed5ce",
   "metadata": {},
   "outputs": [
    {
     "name": "stdout",
     "output_type": "stream",
     "text": [
      "I am an animal Animal cell with specialized roles\n"
     ]
    }
   ],
   "source": [
    "class Organism:\n",
    "    def describe(self):\n",
    "        return \"Basic lifeform\"\n",
    "\n",
    "    class Cell:\n",
    "        def function(self):\n",
    "            return \"Generic cell\"\n",
    "\n",
    "class Animal(Organism):\n",
    "    def describe(self):\n",
    "        return \"I am an animal\"\n",
    "\n",
    "    class Cell(Organism.Cell):\n",
    "        def function(self):\n",
    "            return \"Animal cell with specialized roles\"\n",
    "\n",
    "print(Animal().describe(), Animal.Cell().function())"
   ]
  },
  {
   "cell_type": "code",
   "execution_count": 5,
   "id": "fe55a86b",
   "metadata": {},
   "outputs": [
    {
     "name": "stdout",
     "output_type": "stream",
     "text": [
      "2 1\n",
      "4 1\n",
      "3 1\n",
      "5 2\n",
      "19\n"
     ]
    }
   ],
   "source": [
    "from itertools import zip_longest\n",
    "\n",
    "arr = [1] * 2\n",
    "arr2 = [1, 3] * 2\n",
    "arr3 = [1] * 3\n",
    "ans = 0\n",
    "\n",
    "for i, j, k in zip_longest(arr, arr2, arr3, fillvalue=2):\n",
    "    print((i + j), k)\n",
    "    ans += (i + j) * k\n",
    "\n",
    "print(ans)"
   ]
  },
  {
   "cell_type": "code",
   "execution_count": 6,
   "id": "70f03dcf",
   "metadata": {},
   "outputs": [
    {
     "name": "stdout",
     "output_type": "stream",
     "text": [
      "514\n"
     ]
    }
   ],
   "source": [
    "class A():\n",
    "    __num = 5\n",
    "\n",
    "    def getNum(self):\n",
    "        return self.__num\n",
    "\n",
    "a = A()\n",
    "a.__num = 4\n",
    "\n",
    "print(f\"{a.getNum()}{len(a.__dict__)}{a.__num}\")"
   ]
  },
  {
   "cell_type": "code",
   "execution_count": 8,
   "id": "aff69fad",
   "metadata": {},
   "outputs": [
    {
     "name": "stdout",
     "output_type": "stream",
     "text": [
      "423"
     ]
    }
   ],
   "source": [
    "class A():\n",
    "    def normalMethod(self):\n",
    "        print(1, end = '')\n",
    "\n",
    "class B(A):\n",
    "    def normalMethod(self):\n",
    "        print(2, end = '')\n",
    "        return super().normalMethod()\n",
    "\n",
    "class C(A):\n",
    "    def normalMethod(self):\n",
    "        print(3, end = '')\n",
    "    \n",
    "class D(B, C):\n",
    "    def normalMethod(self):\n",
    "        print(4, end = '')\n",
    "        super().normalMethod()\n",
    "\n",
    "d = D()\n",
    "d.normalMethod()"
   ]
  },
  {
   "cell_type": "code",
   "execution_count": 10,
   "id": "bff23e0b",
   "metadata": {},
   "outputs": [
    {
     "name": "stdout",
     "output_type": "stream",
     "text": [
      "None\n"
     ]
    }
   ],
   "source": [
    "class MyClass():\n",
    "    def __init__(self, num):\n",
    "        self.mine = num\n",
    "    \n",
    "    def __eq__(self, other):\n",
    "        if isinstance(other, MyClass):\n",
    "            return self.mine - other.mine\n",
    "        \n",
    "class YourClass():\n",
    "\n",
    "    def __init__(self, num):\n",
    "        self.yours = num\n",
    "\n",
    "    def __eq__(self, other):\n",
    "        if isinstance(other, YourClass):\n",
    "            return self.yours + other.yours\n",
    "        elif isinstance(other, MyClass):\n",
    "            return self.yours * other.mine\n",
    "        else:\n",
    "            return 3\n",
    "\n",
    "print(MyClass(4) == YourClass(2))"
   ]
  },
  {
   "cell_type": "code",
   "execution_count": 11,
   "id": "b7400a4a",
   "metadata": {},
   "outputs": [
    {
     "name": "stdout",
     "output_type": "stream",
     "text": [
      "Python\n"
     ]
    }
   ],
   "source": [
    "text = \"Python\"[::-1][::-1]\n",
    "print(text)"
   ]
  },
  {
   "cell_type": "code",
   "execution_count": 3,
   "id": "a4b4c956",
   "metadata": {},
   "outputs": [],
   "source": [
    "import contextlib\n",
    "\n",
    "class Origin:\n",
    "    def __init__(self):\n",
    "        print(\"The origin\")\n",
    "\n",
    "class A(Origin):\n",
    "    def __init__(self):\n",
    "        print(\"A's init\")\n",
    "        super().__init__()\n",
    "\n",
    "class B(Origin):\n",
    "    def __init__(self):\n",
    "        print(\"B's init\")\n",
    "        super().__init__()\n",
    "\n",
    "class TestContext(A, B):\n",
    "    def __enter__(self):\n",
    "        return 'Has Entered and been initialized'\n",
    "    \n",
    "    def __exit__(self, exec_type, exec_value, traceback):\n",
    "        print(\"---------\")\n",
    "        print(exec_type)\n",
    "        print(exec_value)\n",
    "        print(traceback)\n",
    "\n",
    "@contextlib.contextmanager\n",
    "def testcontext():\n",
    "    message = 'origin'\n",
    "\n",
    "    try:\n",
    "        yield 'Has Entered and been initialized'\n",
    "        print(\"SUCCC\")\n",
    "        yield 'Here'\n",
    "    except Exception as e:\n",
    "        print(e)\n",
    "    finally:\n",
    "        print(message)\n",
    "\n",
    "\n",
    "# with testcontext() as te:\n",
    "#     print(te + 1)\n",
    "\n",
    "# with TestContext() as text:\n",
    "#     print(text + 1)\n",
    "\n",
    "@testcontext()\n",
    "def test():\n",
    "    print(\"Testing things\")"
   ]
  },
  {
   "cell_type": "code",
   "execution_count": 4,
   "id": "6e6f29e5",
   "metadata": {},
   "outputs": [
    {
     "name": "stdout",
     "output_type": "stream",
     "text": [
      "Testing things\n",
      "SUCCC\n",
      "origin\n"
     ]
    },
    {
     "ename": "RuntimeError",
     "evalue": "generator didn't stop",
     "output_type": "error",
     "traceback": [
      "\u001b[31m---------------------------------------------------------------------------\u001b[39m",
      "\u001b[31mRuntimeError\u001b[39m                              Traceback (most recent call last)",
      "\u001b[36mCell\u001b[39m\u001b[36m \u001b[39m\u001b[32mIn[4]\u001b[39m\u001b[32m, line 1\u001b[39m\n\u001b[32m----> \u001b[39m\u001b[32m1\u001b[39m \u001b[43mtest\u001b[49m\u001b[43m(\u001b[49m\u001b[43m)\u001b[49m\n",
      "\u001b[36mFile \u001b[39m\u001b[32mC:\\Program Files\\WindowsApps\\PythonSoftwareFoundation.Python.3.13_3.13.1008.0_x64__qbz5n2kfra8p0\\Lib\\contextlib.py:84\u001b[39m, in \u001b[36mContextDecorator.__call__.<locals>.inner\u001b[39m\u001b[34m(*args, **kwds)\u001b[39m\n\u001b[32m     82\u001b[39m \u001b[38;5;129m@wraps\u001b[39m(func)\n\u001b[32m     83\u001b[39m \u001b[38;5;28;01mdef\u001b[39;00m\u001b[38;5;250m \u001b[39m\u001b[34minner\u001b[39m(*args, **kwds):\n\u001b[32m---> \u001b[39m\u001b[32m84\u001b[39m \u001b[43m    \u001b[49m\u001b[38;5;28;43;01mwith\u001b[39;49;00m\u001b[43m \u001b[49m\u001b[38;5;28;43mself\u001b[39;49m\u001b[43m.\u001b[49m\u001b[43m_recreate_cm\u001b[49m\u001b[43m(\u001b[49m\u001b[43m)\u001b[49m\u001b[43m:\u001b[49m\n\u001b[32m     85\u001b[39m \u001b[43m        \u001b[49m\u001b[38;5;28;43;01mreturn\u001b[39;49;00m\u001b[43m \u001b[49m\u001b[43mfunc\u001b[49m\u001b[43m(\u001b[49m\u001b[43m*\u001b[49m\u001b[43margs\u001b[49m\u001b[43m,\u001b[49m\u001b[43m \u001b[49m\u001b[43m*\u001b[49m\u001b[43m*\u001b[49m\u001b[43mkwds\u001b[49m\u001b[43m)\u001b[49m\n",
      "\u001b[36mFile \u001b[39m\u001b[32mC:\\Program Files\\WindowsApps\\PythonSoftwareFoundation.Python.3.13_3.13.1008.0_x64__qbz5n2kfra8p0\\Lib\\contextlib.py:153\u001b[39m, in \u001b[36m_GeneratorContextManager.__exit__\u001b[39m\u001b[34m(self, typ, value, traceback)\u001b[39m\n\u001b[32m    151\u001b[39m \u001b[38;5;28;01melse\u001b[39;00m:\n\u001b[32m    152\u001b[39m     \u001b[38;5;28;01mtry\u001b[39;00m:\n\u001b[32m--> \u001b[39m\u001b[32m153\u001b[39m         \u001b[38;5;28;01mraise\u001b[39;00m \u001b[38;5;167;01mRuntimeError\u001b[39;00m(\u001b[33m\"\u001b[39m\u001b[33mgenerator didn\u001b[39m\u001b[33m'\u001b[39m\u001b[33mt stop\u001b[39m\u001b[33m\"\u001b[39m)\n\u001b[32m    154\u001b[39m     \u001b[38;5;28;01mfinally\u001b[39;00m:\n\u001b[32m    155\u001b[39m         \u001b[38;5;28mself\u001b[39m.gen.close()\n",
      "\u001b[31mRuntimeError\u001b[39m: generator didn't stop"
     ]
    }
   ],
   "source": [
    "test()"
   ]
  },
  {
   "cell_type": "code",
   "execution_count": null,
   "id": "166af19a",
   "metadata": {},
   "outputs": [
    {
     "data": {
      "text/plain": [
       "Environment({1: 'something ', 2: 'else', 3: 'new stuff'}, {3: 'or is it ', 4: 'this'})"
      ]
     },
     "execution_count": 11,
     "metadata": {},
     "output_type": "execute_result"
    }
   ],
   "source": [
    "from typing import ChainMap, Any\n",
    "class Environment(ChainMap[int, Any]):\n",
    "\n",
    "    def change(self, key: int, value: Any):\n",
    "        for map in self.maps:\n",
    "            if key in map:\n",
    "                map[key] = value\n",
    "                return\n",
    "    \n",
    "        raise KeyError\n",
    "    \n",
    "inner_env = { 1: 'something ', 2: 'else'}\n",
    "outer_env = { 3: 'or is it ', 4: 'this'}\n",
    "\n",
    "env = Environment(inner_env, outer_env)\n",
    "env[3] = 'new stuff'\n",
    "env"
   ]
  },
  {
   "cell_type": "code",
   "execution_count": 12,
   "id": "3bb5f734",
   "metadata": {},
   "outputs": [
    {
     "data": {
      "text/plain": [
       "2605098037136"
      ]
     },
     "execution_count": 12,
     "metadata": {},
     "output_type": "execute_result"
    }
   ],
   "source": [
    "id(env)"
   ]
  },
  {
   "cell_type": "code",
   "execution_count": 15,
   "id": "d0b7b45c",
   "metadata": {},
   "outputs": [
    {
     "name": "stdout",
     "output_type": "stream",
     "text": [
      "1104\n"
     ]
    }
   ],
   "source": [
    "from math import fma\n",
    "\n",
    "print(int(fma(2, 2, 1_10_0)))"
   ]
  },
  {
   "cell_type": "code",
   "execution_count": 17,
   "id": "11347292",
   "metadata": {},
   "outputs": [
    {
     "name": "stdout",
     "output_type": "stream",
     "text": [
      "[(1, 1), (2, 2)]\n"
     ]
    }
   ],
   "source": [
    "arr1 = [1, 2]\n",
    "arr2 = [1, 2, 3, 4]\n",
    "arr3 = list(zip(arr1,arr2))\n",
    "print(arr3)"
   ]
  },
  {
   "cell_type": "code",
   "execution_count": 4,
   "id": "1ec42c2a",
   "metadata": {},
   "outputs": [
    {
     "name": "stdout",
     "output_type": "stream",
     "text": [
      "A\n",
      "D\n",
      "F\n"
     ]
    }
   ],
   "source": [
    "a = 1\n",
    "b = 1\n",
    "if (a is b):\n",
    "    print(\"A\")\n",
    "else:\n",
    "    print(\"B\")\n",
    "\n",
    "a = 257\n",
    "b = 257\n",
    "if (a is b):\n",
    "    print(\"C\")\n",
    "else:\n",
    "    print(\"D\")\n",
    "\n",
    "a = int(\"-6\")\n",
    "b = -6\n",
    "if (a is b):\n",
    "    print(\"E\")\n",
    "else:\n",
    "    print(\"F\")"
   ]
  },
  {
   "cell_type": "code",
   "execution_count": 6,
   "id": "fe698dca",
   "metadata": {},
   "outputs": [
    {
     "ename": "TypeError",
     "evalue": "'tuple' object does not support item assignment",
     "output_type": "error",
     "traceback": [
      "\u001b[31m---------------------------------------------------------------------------\u001b[39m",
      "\u001b[31mTypeError\u001b[39m                                 Traceback (most recent call last)",
      "\u001b[36mCell\u001b[39m\u001b[36m \u001b[39m\u001b[32mIn[6]\u001b[39m\u001b[32m, line 2\u001b[39m\n\u001b[32m      1\u001b[39m t = (\u001b[32m1\u001b[39m, \u001b[32m2\u001b[39m, [\u001b[32m30\u001b[39m, \u001b[32m40\u001b[39m])\n\u001b[32m----> \u001b[39m\u001b[32m2\u001b[39m \u001b[43mt\u001b[49m\u001b[43m[\u001b[49m\u001b[32;43m2\u001b[39;49m\u001b[43m]\u001b[49m += [\u001b[32m50\u001b[39m, \u001b[32m60\u001b[39m]\n",
      "\u001b[31mTypeError\u001b[39m: 'tuple' object does not support item assignment"
     ]
    }
   ],
   "source": [
    "t = (1, 2, [30, 40])\n",
    "t[2] += [50, 60]"
   ]
  },
  {
   "cell_type": "code",
   "execution_count": 7,
   "id": "33f0b40c",
   "metadata": {},
   "outputs": [
    {
     "data": {
      "text/plain": [
       "(1, 2, [30, 40, 50, 60])"
      ]
     },
     "execution_count": 7,
     "metadata": {},
     "output_type": "execute_result"
    }
   ],
   "source": [
    "t"
   ]
  },
  {
   "cell_type": "code",
   "execution_count": null,
   "id": "e943be4a",
   "metadata": {},
   "outputs": [
    {
     "ename": "",
     "evalue": "",
     "output_type": "error",
     "traceback": [
      "\u001b[1;31mThe kernel failed to start as the Python Environment 'Python' is no longer available. Consider selecting another kernel or refreshing the list of Python Environments."
     ]
    }
   ],
   "source": [
    "a = 257\n",
    "b = 257\n",
    "if (a is b):\n",
    "    print(\"C\")\n",
    "else:\n",
    "    print(\"D\")"
   ]
  },
  {
   "cell_type": "code",
   "execution_count": 2,
   "id": "c1e0a600",
   "metadata": {},
   "outputs": [],
   "source": [
    "A = [1,2,3,4,5,6,612434,2342343,34,34234]\n",
    "B = A.copy()\n",
    "A.sort()"
   ]
  },
  {
   "cell_type": "code",
   "execution_count": 3,
   "id": "dcf24cba",
   "metadata": {},
   "outputs": [
    {
     "data": {
      "text/plain": [
       "[1, 2, 3, 4, 5, 6, 612434, 2342343, 34, 34234]"
      ]
     },
     "execution_count": 3,
     "metadata": {},
     "output_type": "execute_result"
    }
   ],
   "source": [
    "B"
   ]
  },
  {
   "cell_type": "code",
   "execution_count": 4,
   "id": "8d5c03e6",
   "metadata": {},
   "outputs": [
    {
     "data": {
      "text/plain": [
       "[1, 2, 3, 4, 5, 6, 34, 34234, 612434, 2342343]"
      ]
     },
     "execution_count": 4,
     "metadata": {},
     "output_type": "execute_result"
    }
   ],
   "source": [
    "A"
   ]
  },
  {
   "cell_type": "code",
   "execution_count": 5,
   "id": "9bb46812",
   "metadata": {},
   "outputs": [
    {
     "data": {
      "text/plain": [
       "[1, 2, 3, 4, 5, 6, 34, 34234, 612434, 2342343]"
      ]
     },
     "execution_count": 5,
     "metadata": {},
     "output_type": "execute_result"
    }
   ],
   "source": [
    "sorted(B)"
   ]
  },
  {
   "cell_type": "code",
   "execution_count": 8,
   "id": "8e06bceb",
   "metadata": {},
   "outputs": [
    {
     "name": "stdout",
     "output_type": "stream",
     "text": [
      "{}\n"
     ]
    },
    {
     "data": {
      "text/plain": [
       "{'__num': 4}"
      ]
     },
     "execution_count": 8,
     "metadata": {},
     "output_type": "execute_result"
    }
   ],
   "source": [
    "class A():\n",
    "    __num = 5\n",
    "\n",
    "    def getNum(self):\n",
    "        return self.__num\n",
    "\n",
    "a = A()\n",
    "print(a.__dict__)\n",
    "a.__num = 4\n",
    "a.__dict__"
   ]
  },
  {
   "cell_type": "code",
   "execution_count": 1,
   "id": "dc0eb963",
   "metadata": {},
   "outputs": [
    {
     "data": {
      "text/plain": [
       "16"
      ]
     },
     "execution_count": 1,
     "metadata": {},
     "output_type": "execute_result"
    }
   ],
   "source": [
    "import os\n",
    "os.cpu_count()"
   ]
  },
  {
   "cell_type": "code",
   "execution_count": null,
   "id": "f63e8cc2",
   "metadata": {},
   "outputs": [],
   "source": [
    "import httpx\n",
    "\n",
    "client = httpx.AsyncClient()\n",
    "task = client.post('http://localhost:8080')\n",
    "response = await task\n",
    "print(response)"
   ]
  },
  {
   "cell_type": "code",
   "execution_count": 15,
   "id": "1b4f823d",
   "metadata": {},
   "outputs": [
    {
     "data": {
      "text/plain": [
       "datetime.datetime"
      ]
     },
     "execution_count": 15,
     "metadata": {},
     "output_type": "execute_result"
    }
   ],
   "source": [
    "from datetime import datetime\n",
    "\n",
    "datetime.now().__class__"
   ]
  },
  {
   "cell_type": "code",
   "execution_count": 23,
   "id": "e01a1421",
   "metadata": {},
   "outputs": [
    {
     "name": "stdout",
     "output_type": "stream",
     "text": [
      "2\n"
     ]
    }
   ],
   "source": [
    "def config(default=None, **kwargs, ):\n",
    "    kwargs['default'] = kwargs.get('default', default)\n",
    "    return kwargs\n",
    "\n",
    "result = config(setting=1, default=2)\n",
    "print(result['default'])"
   ]
  },
  {
   "cell_type": "code",
   "execution_count": 31,
   "id": "a72fe7c9",
   "metadata": {},
   "outputs": [
    {
     "name": "stdout",
     "output_type": "stream",
     "text": [
      "44"
     ]
    }
   ],
   "source": [
    "class A(type):\n",
    "\n",
    "    def __init__(c, *args, **kwargs):\n",
    "        print(\"1\", end = \"\")\n",
    "        super().__init__(*args, **kwargs)\n",
    "\n",
    "    def __call__(c, *args, **kwargs):\n",
    "        print(\"2\", end = \"\")\n",
    "        type.__call__(c, *args, **kwargs)\n",
    "\n",
    "    def __new__(c, *args, **kwargs):\n",
    "        print(\"3\", end = \"\")\n",
    "        return super().__new__(c, *args, **kwargs)\n",
    "\n",
    "class B:\n",
    "\n",
    "    def __init__(s):\n",
    "        print(\"4\", end = \"\")\n",
    "\n",
    "_ = B()\n",
    "_ = B()"
   ]
  },
  {
   "cell_type": "code",
   "execution_count": null,
   "id": "d322d1d9",
   "metadata": {},
   "outputs": [
    {
     "name": "stdout",
     "output_type": "stream",
     "text": [
      "dict_values([2, 3, 4, 6])\n"
     ]
    }
   ],
   "source": [
    "class A:\n",
    "    def __init__(self, value):\n",
    "        self.val = value\n",
    "    def __hash__(self):\n",
    "        return hash(self.val)\n",
    "\n",
    "class B:\n",
    "    def __init__(self, value):\n",
    "        self.val = value\n",
    "\n",
    "    def __eq__(self, other):\n",
    "        return isinstance(other, B) and self.val == other.val\n",
    "    \n",
    "    def __hash__(self):\n",
    "        return hash(self.val)\n",
    "\n",
    "dict = dict()\n",
    "\n",
    "a = True\n",
    "b = 1\n",
    "dict[a] = 1\n",
    "dict[b] = 2\n",
    "\n",
    "c = A(3)\n",
    "d = A(3)\n",
    "dict[c] = 3\n",
    "dict[d] = 4\n",
    "\n",
    "e = B(4)\n",
    "f = B(4)\n",
    "dict[e] = 5\n",
    "dict[f] = 6\n",
    "\n",
    "print(dict.values())"
   ]
  },
  {
   "cell_type": "code",
   "execution_count": 5,
   "id": "c9152289",
   "metadata": {},
   "outputs": [
    {
     "data": {
      "text/plain": [
       "{True: 2,\n",
       " <__main__.A at 0x20bb9852120>: 3,\n",
       " <__main__.A at 0x20bb979c050>: 4,\n",
       " <__main__.B at 0x20bb9851fd0>: 6}"
      ]
     },
     "execution_count": 5,
     "metadata": {},
     "output_type": "execute_result"
    }
   ],
   "source": [
    "dict"
   ]
  },
  {
   "cell_type": "code",
   "execution_count": null,
   "id": "52af95c8",
   "metadata": {},
   "outputs": [
    {
     "ename": "",
     "evalue": "",
     "output_type": "error",
     "traceback": [
      "\u001b[1;31mThe Kernel crashed while executing code in the current cell or a previous cell. \n",
      "\u001b[1;31mPlease review the code in the cell(s) to identify a possible cause of the failure. \n",
      "\u001b[1;31mClick <a href='https://aka.ms/vscodeJupyterKernelCrash'>here</a> for more info. \n",
      "\u001b[1;31mView Jupyter <a href='command:jupyter.viewOutput'>log</a> for further details."
     ]
    }
   ],
   "source": []
  },
  {
   "cell_type": "code",
   "execution_count": null,
   "id": "582f8a76",
   "metadata": {},
   "outputs": [],
   "source": []
  }
 ],
 "metadata": {
  "kernelspec": {
   "display_name": "venv",
   "language": "python",
   "name": "python3"
  },
  "language_info": {
   "codemirror_mode": {
    "name": "ipython",
    "version": 3
   },
   "file_extension": ".py",
   "mimetype": "text/x-python",
   "name": "python",
   "nbconvert_exporter": "python",
   "pygments_lexer": "ipython3",
   "version": "3.13.3"
  }
 },
 "nbformat": 4,
 "nbformat_minor": 5
}
