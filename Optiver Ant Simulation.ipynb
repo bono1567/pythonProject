{
 "cells": [
  {
   "cell_type": "markdown",
   "id": "b3b83c23",
   "metadata": {},
   "source": [
    "## LETTER OF MOTIVATION:\n",
    "\n",
    "        I am excited to apply for the Data Scientist position at Optiver. With three years of experience as a software developer at JP Morgan Chase and a year of options trading as a retail trader, I am eager to pursue my interest in technology and finance. Pursuing a master's degree in Financial Technology at Imperial College London has given me the opportunity to learn how to combine technology and finance in the most creative way possible.\n",
    "        My interest in financial markets has grown over time, and I have become increasingly interested in roles that offer exposure to the markets. After watching Optiver's C++ seminar on low-latency trading systems, I became intrigued by the company's work. I am aware that only the brightest minds in the industry work at Optiver, and I am eager to be part of this community to learn from them.\n",
    "        Knowing that Optiver is an innovation and tech-driven firm, as a potential data scientist, I want to apply my statistical and analytical skills to come up with creative solutions related to volatility prediction, asset pricing and alpha generation.\n",
    "        Thank you for considering my application. I am excited about the opportunity to work alongside some of the most talented and intelligent people in the business."
   ]
  },
  {
   "cell_type": "code",
   "execution_count": 2,
   "id": "05a2a625",
   "metadata": {},
   "outputs": [],
   "source": [
    "import numpy as np\n",
    "import matplotlib.pyplot as plt"
   ]
  },
  {
   "cell_type": "markdown",
   "id": "654cbe7d",
   "metadata": {},
   "source": [
    "```eq_satified()``` will be the function which can integrated addition of new borders to the simulation (Question 3 second part)"
   ]
  },
  {
   "cell_type": "code",
   "execution_count": 3,
   "id": "348335e9",
   "metadata": {},
   "outputs": [],
   "source": [
    "def eq_satisfied(cur_x, cur_y, q):\n",
    "    # Given the coordinates of the ant, checks if the condition is satisified to stop the simulation.\n",
    "    if q == 1:\n",
    "        if 20 > cur_x > -20 and 20 > cur_y > -20:\n",
    "            return True\n",
    "        else:\n",
    "            return False\n",
    "    elif q == 2:\n",
    "        return cur_x + cur_y - 10 < 0\n",
    "    return (((cur_x - 2.5)/30)**2 + ((cur_y - 2.5)/40)**2) < 1"
   ]
  },
  {
   "cell_type": "code",
   "execution_count": 4,
   "id": "30ff433e",
   "metadata": {},
   "outputs": [],
   "source": [
    "class AntSimulation:\n",
    "    def __init__(self, boundary):\n",
    "        # How far can the ant travel\n",
    "        self.__boundary = boundary\n",
    "\n",
    "    def reset_boundary(self, boundary):\n",
    "        self.__boundary = boundary\n",
    "\n",
    "    def solve_avg_time(self, q, iterations=10000):\n",
    "        # Run the simulation with multiple iterations\n",
    "        time = 0\n",
    "        for _ in range(iterations):\n",
    "            time += self.__simulate(q)\n",
    "        return time / iterations\n",
    "\n",
    "    def __simulate(self, q):\n",
    "        # Returns the time taken to get to the food.\n",
    "        cur_x = 0\n",
    "        cur_y = 0\n",
    "        time = 0\n",
    "        while eq_satisfied(cur_x, cur_y, q):\n",
    "            time += 1\n",
    "            choice = np.random.choice(4, 1)\n",
    "            if choice[0] == 1 and cur_x + 10 <= self.__boundary:\n",
    "                cur_x += 10\n",
    "            if choice[0] == 2 and cur_x - 10 >= -self.__boundary:\n",
    "                cur_x -= 10\n",
    "            if choice[0] == 3 and cur_y + 10 <= self.__boundary:\n",
    "                cur_y += 10\n",
    "            if choice[0] == 0 and cur_y - 10 >= -self.__boundary:\n",
    "                cur_y -= 10\n",
    "        return time"
   ]
  },
  {
   "cell_type": "code",
   "execution_count": null,
   "id": "ac5da145",
   "metadata": {},
   "outputs": [],
   "source": [
    "A = AntSimulation(25)\n",
    "Y_3 = []\n",
    "Y_2 = []\n",
    "Y = []\n",
    "X = list(range(1000, 70000, 1000))\n",
    "for est in X:\n",
    "    Y.append(A.solve_avg_time(1, est))\n",
    "print(\"DONE Q1\")\n",
    "plt.plot(X, Y)\n",
    "plt.show()"
   ]
  },
  {
   "cell_type": "code",
   "execution_count": null,
   "id": "d7a6607a",
   "metadata": {},
   "outputs": [],
   "source": [
    "for est in X:\n",
    "    Y_2.append(A.solve_avg_time(2, est))\n",
    "print(\"DONE Q2\")\n",
    "plt.plot(X, Y_2)\n",
    "plt.show()"
   ]
  },
  {
   "cell_type": "code",
   "execution_count": null,
   "id": "6f180acc",
   "metadata": {},
   "outputs": [],
   "source": [
    "A.reset_boundary(50)\n",
    "\n",
    "for est in X:\n",
    "    Y_3.append(A.solve_avg_time(3, est))\n",
    "plt.plot(X, Y_3)\n",
    "print(\"DONE Q3\")\n",
    "plt.show()"
   ]
  },
  {
   "cell_type": "code",
   "execution_count": null,
   "id": "9bdcf6e5",
   "metadata": {},
   "outputs": [],
   "source": [
    "print(\"Ans Q1: {}\".format(round(np.mean(Y))))\n",
    "print(\"Ans Q2: {}\".format(round(np.mean(Y_2))))\n",
    "print(\"Ans Q3: {}\".format(round(np.mean(Y_3))))"
   ]
  },
  {
   "cell_type": "markdown",
   "id": "fb6a9cff",
   "metadata": {},
   "source": [
    "## SOLUTION:\n",
    "\n",
    " 1) **~4**. Solution by running Monte Carlo simulations and averaging the time taken.\n",
    " \n",
    " 2) **~8**. Solution may vary **depending on the boundary** of the simulation (*Here we have assumed the maximum the boundary is guarded by y=25, y=-25, x=-25 and x=25 lines*). Since there is only one diagonal, where the food can lie. The ant can keep going downwards in the simulation and never reach the food. Making the answer **infinity**\n",
    " \n",
    " 3) **~14**. In order to change the boundary condition we can make changes to the ```eq_satisfied()``` function. "
   ]
  }
 ],
 "metadata": {
  "kernelspec": {
   "display_name": "venv",
   "language": "python",
   "name": "python3"
  },
  "language_info": {
   "codemirror_mode": {
    "name": "ipython",
    "version": 3
   },
   "file_extension": ".py",
   "mimetype": "text/x-python",
   "name": "python",
   "nbconvert_exporter": "python",
   "pygments_lexer": "ipython3",
   "version": "3.11.9"
  }
 },
 "nbformat": 4,
 "nbformat_minor": 5
}
